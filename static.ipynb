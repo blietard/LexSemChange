{
 "cells": [
  {
   "cell_type": "code",
   "execution_count": 2,
   "metadata": {},
   "outputs": [],
   "source": [
    "import numpy as np\n",
    "import scipy as sc\n",
    "import pandas as pd\n",
    "import mangoes\n",
    "import nltk\n",
    "from gensim.models.word2vec import PathLineSentences"
   ]
  },
  {
   "cell_type": "code",
   "execution_count": 3,
   "metadata": {},
   "outputs": [],
   "source": [
    "language = 'english'\n",
    "path_data = './../semeval2020_ulscd_posteval/starting_kit/test_data_public'"
   ]
  },
  {
   "cell_type": "code",
   "execution_count": 4,
   "metadata": {},
   "outputs": [
    {
     "data": {
      "application/vnd.jupyter.widget-view+json": {
       "model_id": "d9eaef020e0d4d989bb6979205e99a41",
       "version_major": 2,
       "version_minor": 0
      },
      "text/plain": [
       "Counting words: 0it [00:00, ?it/s]"
      ]
     },
     "metadata": {},
     "output_type": "display_data"
    },
    {
     "name": "stdout",
     "output_type": "stream",
     "text": [
      "== Corpus 1 ==\n",
      "253644 sentences\n",
      "86557 words\n"
     ]
    },
    {
     "data": {
      "application/vnd.jupyter.widget-view+json": {
       "model_id": "0ee7a328558d41baaace3a75e4bdf839",
       "version_major": 2,
       "version_minor": 0
      },
      "text/plain": [
       "Counting words: 0it [00:00, ?it/s]"
      ]
     },
     "metadata": {},
     "output_type": "display_data"
    },
    {
     "name": "stdout",
     "output_type": "stream",
     "text": [
      "== Corpus 2 ==\n",
      "353692 sentences\n",
      "149891 words\n"
     ]
    }
   ],
   "source": [
    "corpus1_lemma = mangoes.Corpus(f'{path_data}/{language}/corpus1/lemma')\n",
    "print('== Corpus 1 ==')\n",
    "print(corpus1_lemma.nb_sentences,\"sentences\")\n",
    "print(len(corpus1_lemma._words_count),\"words\")\n",
    "\n",
    "\n",
    "corpus2_lemma = mangoes.Corpus(f'{path_data}/{language}/corpus2/lemma')\n",
    "print('== Corpus 2 ==')\n",
    "print(corpus2_lemma.nb_sentences,\"sentences\")\n",
    "print(len(corpus2_lemma._words_count),\"words\")\n",
    "\n"
   ]
  },
  {
   "cell_type": "code",
   "execution_count": 54,
   "metadata": {},
   "outputs": [
    {
     "data": {
      "text/plain": [
       "33954"
      ]
     },
     "execution_count": 54,
     "metadata": {},
     "output_type": "execute_result"
    }
   ],
   "source": [
    "list(set(vocab1.words) & set(vocab2.words))"
   ]
  },
  {
   "cell_type": "code",
   "execution_count": 8,
   "metadata": {},
   "outputs": [
    {
     "name": "stdout",
     "output_type": "stream",
     "text": [
      "86557 words\n",
      "149891 words\n"
     ]
    }
   ],
   "source": [
    "vocab1 = corpus1_lemma.create_vocabulary()\n",
    "print(len(vocab1),\"words\")\n",
    "vocab2 = corpus2_lemma.create_vocabulary()\n",
    "print(len(vocab2),\"words\")\n",
    "vocabulary = mangoes.Vocabulary(list(set(vocab1.words) & set(vocab2.words)))\n",
    "\n",
    "counts_matrix1 = mangoes.counting.count_cooccurrence(corpus1_lemma, vocabulary, vocabulary)\n",
    "counts_matrix2 = mangoes.counting.count_cooccurrence(corpus2_lemma, vocabulary, vocabulary)\n"
   ]
  },
  {
   "cell_type": "code",
   "execution_count": 9,
   "metadata": {},
   "outputs": [],
   "source": [
    "ppmi1 = mangoes.create_representation(counts_matrix1, weighting=mangoes.weighting.PPMI()).to_df()\n",
    "ppmi2 = mangoes.create_representation(counts_matrix2, weighting=mangoes.weighting.PPMI()).to_df()"
   ]
  },
  {
   "cell_type": "code",
   "execution_count": null,
   "metadata": {},
   "outputs": [],
   "source": [
    "targets = mangoes.Corpus(f'{path_data}/{language}/targets')"
   ]
  },
  {
   "cell_type": "code",
   "execution_count": 11,
   "metadata": {},
   "outputs": [
    {
     "data": {
      "text/plain": [
       "0.7775834667169774"
      ]
     },
     "execution_count": 11,
     "metadata": {},
     "output_type": "execute_result"
    }
   ],
   "source": [
    "sc.spatial.distance.cosine(ppmi1['he'],ppmi2['he'])"
   ]
  }
 ],
 "metadata": {
  "interpreter": {
   "hash": "cb50ce4d8d0c27330b8d7fd39176df7b1ba7466120343e77afb4590082812862"
  },
  "kernelspec": {
   "display_name": "Python 3.7.7 ('work')",
   "language": "python",
   "name": "python3"
  },
  "language_info": {
   "codemirror_mode": {
    "name": "ipython",
    "version": 3
   },
   "file_extension": ".py",
   "mimetype": "text/x-python",
   "name": "python",
   "nbconvert_exporter": "python",
   "pygments_lexer": "ipython3",
   "version": "3.7.7"
  },
  "orig_nbformat": 4
 },
 "nbformat": 4,
 "nbformat_minor": 2
}
